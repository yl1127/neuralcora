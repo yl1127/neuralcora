{
 "cells": [
  {
   "cell_type": "markdown",
   "id": "f9042747",
   "metadata": {},
   "source": [
    "## Data Prerequisites\n",
    "\n",
    "All of our tutorials in which you train and evaluate a model use the CORA data set, either in its original form or with some extensions. In this notebook, we will guide you through the process of downloading all essential data set pieces and explain how NeuralCora expects the data structure of the CORA dataset so that you will be able to run all of the tutorials."
   ]
  },
  {
   "cell_type": "markdown",
   "metadata": {},
   "source": [
    "### Locate the CORA samples\n",
    "\n",
    "This project ships the 2013 hourly coastal-ocean height cube and a matching land mask under `data/`. Run the cell below to confirm the files are present and adjust the paths if you placed the downloads elsewhere.\n"
   ]
  },
  {
   "cell_type": "code",
   "execution_count": 1,
   "id": "b659dd10",
   "metadata": {},
   "outputs": [
    {
     "name": "stdout",
     "output_type": "stream",
     "text": [
      "Repository root: /Users/Work/Library/CloudStorage/GoogleDrive-yunlong.pan@stonybrook.edu/My Drive/neuralcora\n",
      "NY_2013_180_360.nc: found @ /Users/Work/Library/CloudStorage/GoogleDrive-yunlong.pan@stonybrook.edu/My Drive/neuralcora/data/NY_2013_180_360.nc\n",
      "real_land_mask_180_360.nc: found @ /Users/Work/Library/CloudStorage/GoogleDrive-yunlong.pan@stonybrook.edu/My Drive/neuralcora/data/real_land_mask_180_360.nc\n"
     ]
    }
   ],
   "source": [
    "from pathlib import Path\n",
    "\n",
    "def locate_repo_root(start: Path) -> Path:\n",
    "    for candidate in [start] + list(start.parents):\n",
    "        if (candidate / 'data').exists():\n",
    "            return candidate\n",
    "    raise FileNotFoundError(\"Could not find a 'data' directory relative to this notebook.\")\n",
    "\n",
    "REPO_ROOT = locate_repo_root(Path.cwd())\n",
    "DATA_PATH = REPO_ROOT / 'data' / 'NY_2013_180_360.nc'\n",
    "MASK_PATH = REPO_ROOT / 'data' / 'real_land_mask_180_360.nc'\n",
    "\n",
    "print(f'Repository root: {REPO_ROOT}')\n",
    "for path in (DATA_PATH, MASK_PATH):\n",
    "    status = 'found' if path.exists() else 'missing'\n",
    "    print(f'{path.name}: {status} @ {path}')\n"
   ]
  },
  {
   "cell_type": "markdown",
   "id": "89f52d21",
   "metadata": {},
   "source": [
    "### Prepare hourly timestamps\n",
    "\n",
    "The `time` coordinate in the NetCDF cube stores the hour index (0-8759) for 2013. The cell below converts those integers into actual timestamps, then optionally writes a new NetCDF file with the datetime-aware coordinate. Install the optional dependencies first if they are missing (for example, `pip install xarray netcdf4 pandas`).\n"
   ]
  },
  {
   "cell_type": "code",
   "execution_count": 2,
   "id": "8c3f1fa3",
   "metadata": {},
   "outputs": [
    {
     "name": "stdout",
     "output_type": "stream",
     "text": [
      "Time coordinate already stores datetime64 values.\n",
      "Saved dataset with datetime coordinates to /Users/Work/Library/CloudStorage/GoogleDrive-yunlong.pan@stonybrook.edu/My Drive/neuralcora/data/NY_2013_180_360_datetime.nc\n"
     ]
    }
   ],
   "source": [
    "import numpy as np\n",
    "\n",
    "try:\n",
    "    import pandas as pd\n",
    "    import xarray as xr\n",
    "except ImportError as exc:\n",
    "    raise ImportError(\"Install xarray, netcdf4, and pandas before running this cell (pip install xarray netcdf4 pandas).\") from exc\n",
    "\n",
    "OUTPUT_PATH = DATA_PATH.with_name('NY_2013_180_360_datetime.nc')\n",
    "OVERWRITE = False\n",
    "\n",
    "ds = xr.load_dataset(DATA_PATH)\n",
    "updated = ds\n",
    "try:\n",
    "    if 'time' not in ds:\n",
    "        raise KeyError(\"Expected 'time' coordinate in the CORA dataset.\")\n",
    "\n",
    "    time_coord = ds['time'].values\n",
    "    if np.issubdtype(time_coord.dtype, np.datetime64):\n",
    "        print('Time coordinate already stores datetime64 values.')\n",
    "    else:\n",
    "        hours = np.asarray(time_coord, dtype=np.int64)\n",
    "        base_timestamp = pd.Timestamp('2013-01-01 00:00:00')\n",
    "        datetimes = base_timestamp + pd.to_timedelta(hours, unit='h')\n",
    "        print(f'Converted {datetimes.size} hourly steps from integers to timestamps.')\n",
    "        print('First five timestamps:', datetimes[:5])\n",
    "        print('Last five timestamps:', datetimes[-5:])\n",
    "        updated = ds.assign_coords(time=('time', datetimes))\n",
    "\n",
    "    if OUTPUT_PATH.exists() and not OVERWRITE:\n",
    "        print(f'Output already exists at {OUTPUT_PATH}. Set OVERWRITE = True to replace it.')\n",
    "    else:\n",
    "        updated.to_netcdf(OUTPUT_PATH)\n",
    "        print(f'Saved dataset with datetime coordinates to {OUTPUT_PATH}')\n",
    "finally:\n",
    "    if updated is not ds:\n",
    "        updated.close()\n",
    "    ds.close()\n"
   ]
  },
  {
   "cell_type": "markdown",
   "id": "7db114d4",
   "metadata": {},
   "source": [
    "### Validate the saved cube\n",
    "\n",
    "After writing the new file, reload it to confirm the `time` coordinate now stores `datetime64[ns]` values.\n"
   ]
  },
  {
   "cell_type": "code",
   "execution_count": null,
   "id": "ecdee202",
   "metadata": {},
   "outputs": [],
   "source": [
    "try:\n",
    "    import xarray as xr\n",
    "except ImportError as exc:\n",
    "    raise ImportError(\"Install xarray before running this validation cell (pip install xarray).\") from exc\n",
    "\n",
    "reloaded = xr.load_dataset(OUTPUT_PATH)\n",
    "try:\n",
    "    time_values = reloaded['time'].values\n",
    "    print('Coordinate dtype:', time_values.dtype)\n",
    "    print('First five timestamps:', time_values[:5])\n",
    "    print('Last five timestamps:', time_values[-5:])\n",
    "finally:\n",
    "    reloaded.close()\n"
   ]
  },
  {
   "cell_type": "markdown",
   "id": "6ecdd247",
   "metadata": {},
   "source": [
    "### NumPy-only helper\n",
    "\n",
    "If you only need raw `numpy.datetime64` values (for example, to create labels for plots), the helper below works without xarray. Replace the demo `hour_indices` array with your data.\n"
   ]
  },
  {
   "cell_type": "code",
   "execution_count": null,
   "id": "5fa9ec70",
   "metadata": {},
   "outputs": [],
   "source": [
    "import numpy as np\n",
    "\n",
    "hour_indices = np.arange(0, 24)  # replace with your hour offsets\n",
    "base_timestamp = np.datetime64('2013-01-01T00:00')\n",
    "timestamps = base_timestamp + hour_indices.astype('timedelta64[h]')\n",
    "print('Sample hourly timestamps:', timestamps[:5])\n"
   ]
  },
  {
   "cell_type": "code",
   "execution_count": 3,
   "id": "3ce8b6bd",
   "metadata": {},
   "outputs": [
    {
     "name": "stdout",
     "output_type": "stream",
     "text": [
      "Repository root: /Users/yunlong/Library/Mobile Documents/com~apple~CloudDocs/Documents/GitHub/neuralcora\n",
      "NY_2013_180_360_january.nc: found @ /Users/yunlong/Library/Mobile Documents/com~apple~CloudDocs/Documents/GitHub/neuralcora/data/NY_2013_180_360_january.nc\n",
      "real_land_mask_180_360.nc: found @ /Users/yunlong/Library/Mobile Documents/com~apple~CloudDocs/Documents/GitHub/neuralcora/data/real_land_mask_180_360.nc\n"
     ]
    }
   ],
   "source": [
    "from pathlib import Path\n",
    "\n",
    "def locate_repo_root(start: Path) -> Path:\n",
    "    for candidate in [start] + list(start.parents):\n",
    "        if (candidate / 'data').exists():\n",
    "            return candidate\n",
    "    raise FileNotFoundError(\"Could not find a 'data' directory relative to this notebook.\")\n",
    "\n",
    "REPO_ROOT = locate_repo_root(Path.cwd())\n",
    "DATA_PATH = REPO_ROOT / 'data' / 'NY_2013_180_360_january.nc'\n",
    "MASK_PATH = REPO_ROOT / 'data' / 'real_land_mask_180_360.nc'\n",
    "\n",
    "print(f'Repository root: {REPO_ROOT}')\n",
    "for path in (DATA_PATH, MASK_PATH):\n",
    "    status = 'found' if path.exists() else 'missing'\n",
    "    print(f'{path.name}: {status} @ {path}')\n"
   ]
  },
  {
   "cell_type": "code",
   "execution_count": 4,
   "id": "1d623864",
   "metadata": {},
   "outputs": [
    {
     "name": "stdout",
     "output_type": "stream",
     "text": [
      "<xarray.Dataset> Size: 386MB\n",
      "Dimensions:    (time: 744, latitude: 180, longitude: 360)\n",
      "Coordinates:\n",
      "  * time       (time) datetime64[ns] 6kB 2013-01-01 ... 2013-01-31T23:00:00\n",
      "  * latitude   (latitude) float64 1kB 40.25 40.26 40.26 ... 41.49 41.49 41.5\n",
      "  * longitude  (longitude) float64 3kB -74.5 -74.49 -74.48 ... -71.26 -71.25\n",
      "Data variables:\n",
      "    zeta       (time, latitude, longitude) float64 386MB nan nan nan ... nan nan\n"
     ]
    }
   ],
   "source": [
    "# !pip install xarray netcdf4 pandas\n",
    "\n",
    "import xarray as xr\n",
    "\n",
    "ds = xr.load_dataset(DATA_PATH)\n",
    "\n",
    "print(ds)"
   ]
  },
  {
   "cell_type": "code",
   "execution_count": 5,
   "id": "c0caf2f2",
   "metadata": {},
   "outputs": [
    {
     "name": "stdout",
     "output_type": "stream",
     "text": [
      "<xarray.Dataset> Size: 261MB\n",
      "Dimensions:    (time: 504, latitude: 180, longitude: 360)\n",
      "Coordinates:\n",
      "  * time       (time) datetime64[ns] 4kB 2013-01-01 ... 2013-01-21T23:00:00\n",
      "  * latitude   (latitude) float64 1kB 40.25 40.26 40.26 ... 41.49 41.49 41.5\n",
      "  * longitude  (longitude) float64 3kB -74.5 -74.49 -74.48 ... -71.26 -71.25\n",
      "Data variables:\n",
      "    zeta       (time, latitude, longitude) float64 261MB nan nan nan ... nan nan\n"
     ]
    }
   ],
   "source": [
    "# Select the first month (January) from the dataset\n",
    "# January has 21 days, each with 24 hours: 21 * 24 = 504 time steps\n",
    "\n",
    "january_ds = ds.isel(time=slice(0, 21*24))\n",
    "print(january_ds)"
   ]
  },
  {
   "cell_type": "code",
   "execution_count": 6,
   "id": "898e8144",
   "metadata": {},
   "outputs": [],
   "source": [
    "january_ds.to_netcdf(REPO_ROOT / 'data' / 'NY_2013_180_360_demo.nc')"
   ]
  },
  {
   "cell_type": "code",
   "execution_count": null,
   "id": "6bf18100",
   "metadata": {},
   "outputs": [],
   "source": []
  }
 ],
 "metadata": {
  "kernelspec": {
   "display_name": "yl-demo-0917",
   "language": "python",
   "name": "python3"
  },
  "language_info": {
   "codemirror_mode": {
    "name": "ipython",
    "version": 3
   },
   "file_extension": ".py",
   "mimetype": "text/x-python",
   "name": "python",
   "nbconvert_exporter": "python",
   "pygments_lexer": "ipython3",
   "version": "3.13.7"
  }
 },
 "nbformat": 4,
 "nbformat_minor": 5
}
